{
 "cells": [
  {
   "cell_type": "code",
   "execution_count": 2,
   "metadata": {},
   "outputs": [],
   "source": [
    "import os\n",
    "from shutil import copyfile\n",
    "from tqdm import tqdm"
   ]
  },
  {
   "cell_type": "code",
   "execution_count": 9,
   "metadata": {},
   "outputs": [
    {
     "name": "stderr",
     "output_type": "stream",
     "text": [
      " 40%|████      | 10/25 [00:00<00:01, 11.87it/s]"
     ]
    },
    {
     "name": "stdout",
     "output_type": "stream",
     "text": [
      "[Errno 20] Not a directory: '/Users/vineetkamat/Documents/College/Eight Semester/4701 AI Prac/archive/.DS_Store'\n"
     ]
    },
    {
     "name": "stderr",
     "output_type": "stream",
     "text": [
      "100%|██████████| 25/25 [00:02<00:00, 10.49it/s]\n"
     ]
    }
   ],
   "source": [
    "master_folder = \"/Users/vineetkamat/Documents/College/Eight Semester/4701 AI Prac/archive\"\n",
    "new_folder = \"/Users/vineetkamat/Documents/College/Eight Semester/4701 AI Prac/voice/\"\n",
    "try:\n",
    "    os.mkdir(new_folder)\n",
    "except:\n",
    "    pass\n",
    "\n",
    "emote_dict = {}\n",
    "emote_dict[1] = 'neutral'\n",
    "emote_dict[2] = 'calm'\n",
    "emote_dict[3] = 'happy'\n",
    "emote_dict[4] = 'sad'\n",
    "emote_dict[5] = 'angry'\n",
    "emote_dict[6] ='fearful'\n",
    "emote_dict[7] = 'disgust'\n",
    "emote_dict[8] = 'surprised'\n",
    "\n",
    "\n",
    "for val in emote_dict:\n",
    "    emote_folder = os.path.join(new_folder, emote_dict[val])\n",
    "    try:\n",
    "        os.mkdir(emote_folder)\n",
    "    except:\n",
    "        pass\n",
    "\n",
    "\n",
    "for folder in tqdm(os.listdir(master_folder)):\n",
    "    try:\n",
    "        folder = os.path.join(master_folder, folder)\n",
    "        for f in os.listdir(folder):\n",
    "            file = os.path.join(folder, f)\n",
    "            emotion = int(str.split(f,'-')[2])\n",
    "            copyfile(file, os.path.join(new_folder,emote_dict[emotion],f))\n",
    "            \n",
    "    except Exception as e:\n",
    "        print(e)\n",
    "        "
   ]
  },
  {
   "cell_type": "code",
   "execution_count": null,
   "metadata": {},
   "outputs": [],
   "source": []
  }
 ],
 "metadata": {
  "kernelspec": {
   "display_name": "Python 3",
   "language": "python",
   "name": "python3"
  },
  "language_info": {
   "codemirror_mode": {
    "name": "ipython",
    "version": 3
   },
   "file_extension": ".py",
   "mimetype": "text/x-python",
   "name": "python",
   "nbconvert_exporter": "python",
   "pygments_lexer": "ipython3",
   "version": "3.7.6"
  }
 },
 "nbformat": 4,
 "nbformat_minor": 4
}
